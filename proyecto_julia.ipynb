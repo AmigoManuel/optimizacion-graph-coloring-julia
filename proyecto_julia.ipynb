{
 "cells": [
  {
   "attachments": {},
   "cell_type": "markdown",
   "metadata": {},
   "source": [
    "# Graph Coloring Problem\n",
    "\n",
    "La presente implementación detalla en primera instancia la solución del problema de coloración de vertices en grafos mediante programación lineal entera. Sobre esta se generan distintas instancias del problema en base a los sets dispuestos por https://mat.tepper.cmu.edu/COLOR/instances.html, no se utilizaron la totalidad de los sets dispuestos debido a la alta cantidad de vertices que contenian parte de estos, lo cual provocaba una escalada en tiempos de ejecución muy elevada."
   ]
  },
  {
   "cell_type": "code",
   "execution_count": null,
   "metadata": {},
   "outputs": [],
   "source": [
    "import Pkg\n",
    "using JuMP\n",
    "using GLPK\n",
    "using Glob\n",
    "using IJulia"
   ]
  },
  {
   "attachments": {},
   "cell_type": "markdown",
   "metadata": {},
   "source": [
    "## Función de evaluación graph_coloring\n",
    "La siguiente función detalla el procedimiento de coloración mediante backtracking.\n",
    "\n",
    "En esta se representan como variables de decición binarias sobre $g$ como, la cantidad de vertices $i\\in(1,...,n)$ por los colores $c\\in(1,...,\\Delta(g))$, donde se tendrian las variables $x_{ij}$ con $n*\\Delta(g)$, donde $\\Delta(g)$ corresponde al grado maximo del grafo y es una cota superior que permite reducir el valor de $num_{colors}$ \n",
    "\n",
    "Las restricciones son las siguientes.\n",
    "- Los vertices adyacentes al vertice v no pueden tener el mismo color c, tal que la suma de los $c$ utilizados por los $x_{v,c}$ adyacentes sea igual a 1 (unico color en el vecindario).\n",
    "- La cantidad de colores utilizados no puede exceder la cantidad de vertices en el grafo.\n",
    "\n",
    "Como función objetivo se tiene que minimizar la cantidad de vertices coloreados de distinta manera, representados mediante la suma las variables $x$"
   ]
  },
  {
   "cell_type": "code",
   "execution_count": null,
   "metadata": {},
   "outputs": [],
   "source": [
    "function graph_coloring(graph)\n",
    "    num_nodes = length(graph)\n",
    "    max_degree = 0\n",
    "    for i in 1:num_nodes\n",
    "        degree = sum(graph[i])\n",
    "        if degree > max_degree\n",
    "            max_degree = degree\n",
    "        end\n",
    "    end\n",
    "    println(\"max_degree: \", max_degree)\n",
    "\n",
    "    # Crear el modelo de programación lineal\n",
    "    model = Model(GLPK.Optimizer)\n",
    "\n",
    "    # Variables de decisión: x[i, j] indica si el nodo i tiene el color j\n",
    "    @variable(model, x[1:num_nodes, 1:max_degree], Bin)\n",
    "\n",
    "    # Restricción: cada nodo debe tener exactamente un color asignado\n",
    "    for i in 1:num_nodes\n",
    "        @constraint(model, sum(x[i, :]) == 1)\n",
    "    end\n",
    "\n",
    "    # Restricción: dos nodos adyacentes no pueden tener el mismo color\n",
    "    for i in 1:num_nodes\n",
    "        for j in 1:num_nodes\n",
    "            if graph[i][j] == 1\n",
    "                for k in 1:max_degree\n",
    "                    @constraint(model, x[i, k] + x[j, k] <= 1)\n",
    "                end\n",
    "            end\n",
    "        end\n",
    "    end\n",
    "\n",
    "    # Función objetivo: minimizar el número de colores utilizados\n",
    "    @objective(model, Min, sum(x))\n",
    "\n",
    "    # Resolver el modelo\n",
    "    optimize!(model)\n",
    "\n",
    "    # Obtener los resultados\n",
    "    coloring = Dict()\n",
    "    for i in 1:num_nodes\n",
    "        for j in 1:max_degree\n",
    "            if value(x[i, j]) == 1\n",
    "                coloring[i] = j\n",
    "                break\n",
    "            end\n",
    "        end\n",
    "    end\n",
    "\n",
    "    return maximum(values(coloring))\n",
    "end"
   ]
  },
  {
   "attachments": {},
   "cell_type": "markdown",
   "metadata": {},
   "source": [
    "## Clase GraphMinified\n",
    "\n",
    "Utilizada para la lectura de ficheros, almacena el nombre del archivo, la cantidad de vertices y las aristas entre cada vertice como una lista de aristas."
   ]
  },
  {
   "cell_type": "code",
   "execution_count": null,
   "metadata": {},
   "outputs": [],
   "source": [
    "struct GraphMinified\n",
    "    name::AbstractString\n",
    "    vertices::Int\n",
    "    edges::Vector{Tuple{Int, Int}}\n",
    "end"
   ]
  },
  {
   "cell_type": "code",
   "execution_count": null,
   "metadata": {},
   "outputs": [],
   "source": [
    "file_names = glob(\"./instancias/*.col\")\n",
    "\n",
    "graphs_files = []\n",
    "for file_name in file_names\n",
    "    open(file_name) do file\n",
    "        lines = readlines(file)\n",
    "        vertices = 0\n",
    "        edges = []\n",
    "        name = file_name[14:end]\n",
    "        for line in lines\n",
    "            if startswith(line, \"p\")\n",
    "                vertices = parse(Int, split(line)[3])\n",
    "            elseif startswith(line, \"e\")\n",
    "                push!(edges, (parse(Int, split(line)[2]), parse(Int, split(line)[3])))\n",
    "            end\n",
    "        end\n",
    "        graph = GraphMinified(name, vertices, edges)\n",
    "        push!(graphs_files, graph)\n",
    "    end\n",
    "end\n",
    "\n",
    "# ordenar por número de vértices\n",
    "sort!(graphs_files, by = x -> x.vertices)\n",
    "\n",
    "println(\"Número de grafos: \", length(graphs_files))\n",
    "for graph in graphs_files\n",
    "    println(\"Nombre: \", graph.name, \" Número de vértices: \", graph.vertices, \" Número de aristas: \", length(graph.edges))\n",
    "end"
   ]
  },
  {
   "cell_type": "code",
   "execution_count": 5,
   "metadata": {},
   "outputs": [
    {
     "name": "stdout",
     "output_type": "stream",
     "text": [
      "Trabajando Grafo: myciel3.col Número de vértices: 11 Número de aristas: 20\n",
      "Resultados: "
     ]
    },
    {
     "name": "stdout",
     "output_type": "stream",
     "text": [
      "Any["
     ]
    },
    {
     "name": "stdout",
     "output_type": "stream",
     "text": [
      "\"myciel3.col\", 11, 20, "
     ]
    },
    {
     "name": "stdout",
     "output_type": "stream",
     "text": [
      "2.9985061, 4.0, 1536.0]\n",
      "Trabajando Grafo: myciel4.col Número de vértices: 23 Número de aristas: 71\n"
     ]
    },
    {
     "name": "stdout",
     "output_type": "stream",
     "text": [
      "Resultados: Any[\"myciel4.col\", 23, 71, 0.0947831, 5.0, 5376.0]\n",
      "Trabajando Grafo: queen5_5.col Número de vértices: 25 Número de aristas: 320"
     ]
    },
    {
     "name": "stdout",
     "output_type": "stream",
     "text": [
      "\n",
      "Resultados: Any[\"queen5_5.col\", 25, 320, 0.3160954, 7.0, 6240.0]\n",
      "Trabajando Grafo: queen6_6.col Número de vértices: 36 Número de aristas: 580\n"
     ]
    },
    {
     "name": "stdout",
     "output_type": "stream",
     "text": [
      "Resultados: Any[\"queen6_6.col\", 36, 580, 1.8358404, 11.0"
     ]
    },
    {
     "name": "stdout",
     "output_type": "stream",
     "text": [
      ", 12136.0]\n",
      "Trabajando Grafo: myciel5.col Número de vértices: 47 Número de aristas: 236"
     ]
    },
    {
     "name": "stdout",
     "output_type": "stream",
     "text": [
      "\n",
      "Resultados: Any[\"myciel5.col\", 47, 236, 2.6339832, 6.0, 19968.0]\n",
      "Trabajando Grafo: queen7_7.col Número de vértices: 49 Número de aristas: 952"
     ]
    },
    {
     "name": "stdout",
     "output_type": "stream",
     "text": [
      "\n",
      "Resultados: Any[\"queen7_7.col\", 49, 952, 10.0872436, 10.0, 21600.0]\n",
      "Trabajando Grafo: queen8_8.col Número de vértices: 64 Número de aristas: 1456\n"
     ]
    },
    {
     "name": "stdout",
     "output_type": "stream",
     "text": [
      "Resultados: Any[\"queen8_8.col\", 64, 1456, 41.2400405, 13.0, 35880.0]\n",
      "Trabajando Grafo: huck.col Número de vértices: 74 Número de aristas: 602"
     ]
    },
    {
     "name": "stdout",
     "output_type": "stream",
     "text": [
      "\n",
      "Resultados: Any[\"huck.col\", 74, 602, 22.1901015, 11.0, 47400.0]\n",
      "Trabajando Grafo: jean.col Número de vértices: 80 Número de aristas: 508\n"
     ]
    }
   ],
   "source": [
    "# itera por cada instancia\n",
    "results = []\n",
    "\n",
    "for graph_file in graphs_files\n",
    "    println(\"Trabajando Grafo: \", graph_file.name, \" Número de vértices: \", graph_file.vertices, \" Número de aristas: \", length(graph_file.edges))\n",
    "    elapsed_time_data = Float64[]\n",
    "    num_colors_data = Float64[]\n",
    "    mem_size_data = Float64[]\n",
    "    for i in 1:1\n",
    "        graph = []\n",
    "        for j in 1:graph_file.vertices\n",
    "            push!(graph, zeros(Int, graph_file.vertices))\n",
    "        end\n",
    "        for edge in graph_file.edges\n",
    "            graph[edge[1]][edge[2]] = 1\n",
    "            graph[edge[2]][edge[1]] = 1\n",
    "        end\n",
    "        mem_size = Base.summarysize(graph)\n",
    "        elapsed_time = @elapsed num_colors = graph_coloring(graph)\n",
    "        push!(elapsed_time_data, elapsed_time)\n",
    "        push!(num_colors_data, num_colors)\n",
    "        push!(mem_size_data, mem_size)\n",
    "    end\n",
    "    # determina la media de los resultados\n",
    "    elapsed_time = sum(elapsed_time_data) / length(elapsed_time_data)\n",
    "    num_colors = sum(num_colors_data) / length(num_colors_data)\n",
    "    mem_size = sum(mem_size_data) / length(mem_size_data)\n",
    "    res = [graph_file.name, graph_file.vertices, length(graph_file.edges), elapsed_time, num_colors, mem_size]\n",
    "    push!(results, res)\n",
    "    println(\"Resultados: \", res)\n",
    "end"
   ]
  }
 ],
 "metadata": {
  "kernelspec": {
   "display_name": "Julia 1.9.0",
   "language": "julia",
   "name": "julia-1.9"
  },
  "language_info": {
   "file_extension": ".jl",
   "mimetype": "application/julia",
   "name": "julia",
   "version": "1.9.0"
  },
  "orig_nbformat": 4
 },
 "nbformat": 4,
 "nbformat_minor": 2
}
