{
 "cells": [
  {
   "attachments": {},
   "cell_type": "markdown",
   "metadata": {},
   "source": [
    "# Graph Coloring Problem\n",
    "\n",
    "La presente implementación detalla en primera instancia la solución del problema de coloración de vertices en grafos mediante programación lineal entera. Sobre esta se generan distintas instancias del problema en base a los sets dispuestos por https://mat.tepper.cmu.edu/COLOR/instances.html, no se utilizaron la totalidad de los sets dispuestos debido a la alta cantidad de vertices que contenian parte de estos, lo cual provocaba una escalada en tiempos de ejecución muy elevada."
   ]
  },
  {
   "cell_type": "code",
   "execution_count": 1,
   "metadata": {},
   "outputs": [],
   "source": [
    "import Pkg\n",
    "using JuMP\n",
    "using GLPK\n",
    "using Glob\n",
    "using IJulia"
   ]
  },
  {
   "attachments": {},
   "cell_type": "markdown",
   "metadata": {},
   "source": [
    "## Función de evaluación graph_coloring\n",
    "La siguiente función detalla el procedimiento de coloración mediante backtracking.\n",
    "\n",
    "En esta se representan como variables de decición binarias sobre $g$ como, la cantidad de vertices $i\\in(1,...,n)$ por los colores $c\\in(1,...,\\Delta(g))$, donde se tendrian las variables $x_{ij}$ con $n*\\Delta(g)$, donde $\\Delta(g)$ corresponde al grado maximo del grafo y es una cota superior que permite reducir el valor de $num_{colors}$ \n",
    "\n",
    "Las restricciones son las siguientes.\n",
    "- Los vertices adyacentes al vertice v no pueden tener el mismo color c, tal que la suma de los $c$ utilizados por los $x_{v,c}$ adyacentes sea igual a 1 (unico color en el vecindario).\n",
    "- La cantidad de colores utilizados no puede exceder la cantidad de vertices en el grafo.\n",
    "\n",
    "Como función objetivo se tiene que minimizar la cantidad de vertices coloreados de distinta manera, representados mediante la suma las variables $x$"
   ]
  },
  {
   "cell_type": "code",
   "execution_count": 2,
   "metadata": {},
   "outputs": [
    {
     "data": {
      "text/plain": [
       "graph_coloring (generic function with 1 method)"
      ]
     },
     "metadata": {},
     "output_type": "display_data"
    }
   ],
   "source": [
    "function graph_coloring(graph)\n",
    "    num_nodes = length(graph)\n",
    "    max_degree = 0\n",
    "    for i in 1:num_nodes\n",
    "        degree = sum(graph[i])\n",
    "        if degree > max_degree\n",
    "            max_degree = degree\n",
    "        end\n",
    "    end\n",
    "    println(\"max_degree: \", max_degree)\n",
    "\n",
    "    # Crear el modelo de programación lineal\n",
    "    model = Model(GLPK.Optimizer)\n",
    "\n",
    "    # Variables de decisión: x[i, j] indica si el nodo i tiene el color j\n",
    "    @variable(model, x[1:num_nodes, 1:max_degree], Bin)\n",
    "\n",
    "    # Restricción: cada nodo debe tener exactamente un color asignado\n",
    "    for i in 1:num_nodes\n",
    "        @constraint(model, sum(x[i, :]) == 1)\n",
    "    end\n",
    "\n",
    "    # Restricción: dos nodos adyacentes no pueden tener el mismo color\n",
    "    for i in 1:num_nodes\n",
    "        for j in 1:num_nodes\n",
    "            if graph[i][j] == 1\n",
    "                for k in 1:max_degree\n",
    "                    @constraint(model, x[i, k] + x[j, k] <= 1)\n",
    "                end\n",
    "            end\n",
    "        end\n",
    "    end\n",
    "\n",
    "    # Función objetivo: minimizar el número de colores utilizados\n",
    "    @objective(model, Min, sum(x))\n",
    "\n",
    "    # Resolver el modelo\n",
    "    optimize!(model)\n",
    "\n",
    "    # Obtener los resultados\n",
    "    coloring = Dict()\n",
    "    for i in 1:num_nodes\n",
    "        for j in 1:max_degree\n",
    "            if value(x[i, j]) == 1\n",
    "                coloring[i] = j\n",
    "                break\n",
    "            end\n",
    "        end\n",
    "    end\n",
    "\n",
    "    return maximum(values(coloring))\n",
    "end"
   ]
  },
  {
   "attachments": {},
   "cell_type": "markdown",
   "metadata": {},
   "source": [
    "## Clase GraphMinified\n",
    "\n",
    "Utilizada para la lectura de ficheros, almacena el nombre del archivo, la cantidad de vertices y las aristas entre cada vertice como una lista de aristas."
   ]
  },
  {
   "cell_type": "code",
   "execution_count": 3,
   "metadata": {},
   "outputs": [],
   "source": [
    "struct GraphMinified\n",
    "    name::AbstractString\n",
    "    vertices::Int\n",
    "    edges::Vector{Tuple{Int, Int}}\n",
    "end"
   ]
  },
  {
   "cell_type": "code",
   "execution_count": 4,
   "metadata": {},
   "outputs": [
    {
     "name": "stdout",
     "output_type": "stream",
     "text": [
      "Número de grafos: 57\n",
      "Nombre: myciel3.col Número de vértices: 11 Número de aristas: 20\n",
      "Nombre: myciel4.col Número de vértices: 23 Número de aristas: 71\n",
      "Nombre: queen5_5.col Número de vértices: 25 Número de aristas: 320\n",
      "Nombre: queen6_6.col Número de vértices: 36 Número de aristas: 580\n",
      "Nombre: myciel5.col Número de vértices: 47 Número de aristas: 236\n",
      "Nombre: queen7_7.col Número de vértices: 49"
     ]
    },
    {
     "name": "stdout",
     "output_type": "stream",
     "text": [
      " Número de aristas: 952\n",
      "Nombre: queen8_8.col Número de vértices: 64 Número de aristas: 1456\n",
      "Nombre: huck.col Número de vértices: 74 Número de aristas: 602\n",
      "Nombre: jean.col Número de vértices: 80 Número de aristas: 508\n",
      "Nombre: queen9_9.col Número de vértices: 81 Número de aristas: 2112\n",
      "Nombre: david.col Número de vértices: 87 Número de aristas: 812\n",
      "Nombre: myciel6.col Número de vértices: 95 Número de aristas: 755\n",
      "Nombre: queen8_12.col Número de vértices: 96 Número de aristas: 2736\n",
      "Nombre: queen10_10.col Número de vértices: 100 Número de aristas: 2940\n",
      "Nombre: games120.col Número de vértices: 120"
     ]
    },
    {
     "name": "stdout",
     "output_type": "stream",
     "text": [
      " Número de aristas: 1276\n",
      "Nombre: queen11_11.col Número de vértices: 121 Número de aristas: 3960\n",
      "Nombre: miles1000.col Número de vértices: 128 Número de aristas: 6432\n",
      "Nombre: miles1500.col Número de vértices: 128 Número de aristas: 10396\n",
      "Nombre: miles250.col Número de vértices: 128 Número de aristas: 774\n",
      "Nombre: miles500.col"
     ]
    },
    {
     "name": "stdout",
     "output_type": "stream",
     "text": [
      " Número de vértices: 128 Número de aristas: 2340\n",
      "Nombre: miles750.col Número de vértices: 128 Número de aristas: 4226\n",
      "Nombre: anna.col Número de vértices: 138 Número de aristas: 986\n",
      "Nombre: queen12_12.col Número de vértices: 144 Número de aristas: 5192\n",
      "Nombre: queen13_13.col Número de vértices: 169 Número de aristas: 6656\n",
      "Nombre: mulsol.i.3.col Número de vértices: 184 Número de aristas: 3916\n",
      "Nombre: mulsol.i.4.col Número de vértices: 185 Número de aristas: 3946\n",
      "Nombre: mulsol.i.5.col Número de vértices: 186 Número de aristas: 3973\n",
      "Nombre: mulsol.i.2.col"
     ]
    },
    {
     "name": "stdout",
     "output_type": "stream",
     "text": [
      " Número de vértices: 188 Número de aristas: 3885\n",
      "Nombre: myciel7.col Número de vértices: 191 Número de aristas: 2360\n",
      "Nombre: queen14_14.col Número de vértices: 196 Número de aristas: 8372\n",
      "Nombre: mulsol.i.1.col Número de vértices: 197 Número de aristas: 3925\n",
      "Nombre: zeroin.i.3.col Número de vértices: 206 Número de aristas: 3540\n",
      "Nombre: zeroin.i.1.col Número de vértices: 211 Número de aristas: 4100\n",
      "Nombre: zeroin.i.2.col Número de vértices: 211 Número de aristas: 3541\n",
      "Nombre: queen15_15.col Número de vértices: 225 Número de aristas: 10360\n",
      "Nombre: queen16_16.col Número de vértices: 256 Número de aristas: 12640\n",
      "Nombre: school1_nsh.col Número de vértices: 352 Número de aristas: 14612\n",
      "Nombre: school1.col Número de vértices: 385 Número de aristas: 19095\n",
      "Nombre: fpsol2.i.3.col Número de vértices: 425 Número de aristas: 8688\n",
      "Nombre: le450_15a.col Número de vértices: 450 Número de aristas: 8168\n",
      "Nombre: le450_15b.col Número de vértices: 450 Número de aristas: 8169"
     ]
    },
    {
     "name": "stdout",
     "output_type": "stream",
     "text": [
      "\n",
      "Nombre: le450_15c.col Número de vértices: 450 Número de aristas: 16680\n",
      "Nombre: le450_15d.col Número de vértices: 450 Número de aristas: 16750\n",
      "Nombre: le450_25a.col Número de vértices: 450 Número de aristas: 8260\n",
      "Nombre: le450_25b.col Número de vértices: 450 Número de aristas: 8263\n",
      "Nombre: le450_25c.col Número de vértices: 450 Número de aristas: 17343\n",
      "Nombre: le450_25d.col Número de vértices: 450 Número de aristas: 17425\n",
      "Nombre: le450_5a.col Número de vértices: 450 Número de aristas: 5714\n",
      "Nombre: le450_5b.col Número de vértices: 450 Número de aristas: "
     ]
    },
    {
     "name": "stdout",
     "output_type": "stream",
     "text": [
      "5734\n",
      "Nombre: le450_5c.col Número de vértices: 450 Número de aristas: 9803\n",
      "Nombre: le450_5d.col Número de vértices: 450 Número de aristas: 9757\n",
      "Nombre: fpsol2.i.2.col Número de vértices: 451 Número de aristas: 8691\n",
      "Nombre: fpsol2.i.1.col Número de vértices: 496 Número de aristas: 11654\n",
      "Nombre: homer.col Número de vértices: 561 Número de aristas: 3258\n",
      "Nombre: inithx.i.3.col Número de vértices: 621 Número de aristas: 13969\n",
      "Nombre: inithx.i.2.col Número de vértices: 645 Número de aristas: 13979\n",
      "Nombre: inithx.i.1.col Número de vértices: 864 Número de aristas: 18707\n"
     ]
    }
   ],
   "source": [
    "file_names = glob(\"./instancias/*.col\")\n",
    "\n",
    "graphs_files = []\n",
    "for file_name in file_names\n",
    "    open(file_name) do file\n",
    "        lines = readlines(file)\n",
    "        vertices = 0\n",
    "        edges = []\n",
    "        name = file_name[14:end]\n",
    "        for line in lines\n",
    "            if startswith(line, \"p\")\n",
    "                vertices = parse(Int, split(line)[3])\n",
    "            elseif startswith(line, \"e\")\n",
    "                push!(edges, (parse(Int, split(line)[2]), parse(Int, split(line)[3])))\n",
    "            end\n",
    "        end\n",
    "        graph = GraphMinified(name, vertices, edges)\n",
    "        push!(graphs_files, graph)\n",
    "    end\n",
    "end\n",
    "\n",
    "# ordenar por número de vértices\n",
    "sort!(graphs_files, by = x -> x.vertices)\n",
    "\n",
    "println(\"Número de grafos: \", length(graphs_files))\n",
    "for graph in graphs_files\n",
    "    println(\"Nombre: \", graph.name, \" Número de vértices: \", graph.vertices, \" Número de aristas: \", length(graph.edges))\n",
    "end"
   ]
  },
  {
   "cell_type": "code",
   "execution_count": 5,
   "metadata": {},
   "outputs": [
    {
     "name": "stdout",
     "output_type": "stream",
     "text": [
      "Trabajando Grafo: myciel3.col Número de vértices: 11 Número de aristas: 20\n",
      "max_degree: "
     ]
    },
    {
     "name": "stdout",
     "output_type": "stream",
     "text": [
      "5\n"
     ]
    },
    {
     "name": "stdout",
     "output_type": "stream",
     "text": [
      "Resultados: "
     ]
    },
    {
     "name": "stdout",
     "output_type": "stream",
     "text": [
      "Any["
     ]
    },
    {
     "name": "stdout",
     "output_type": "stream",
     "text": [
      "\"myciel3.col\", 11, 20, 3.2583082, 4.0,"
     ]
    },
    {
     "name": "stdout",
     "output_type": "stream",
     "text": [
      " 1536.0]\n",
      "Trabajando Grafo: myciel4.col Número de vértices: 23 Número de aristas: 71\n",
      "max_degree: 11\n",
      "Resultados: Any[\"myciel4.col\", 23, 71, 0.066825, "
     ]
    },
    {
     "name": "stdout",
     "output_type": "stream",
     "text": [
      "5.0, 5376.0]\n",
      "Trabajando Grafo: queen5_5.col Número de vértices: 25 Número de aristas: 320\n",
      "max_degree: 16\n"
     ]
    },
    {
     "name": "stdout",
     "output_type": "stream",
     "text": [
      "Resultados: Any[\"queen5_5.col\", 25, 320, 0.301187, 7.0, 6240.0]\n",
      "Trabajando Grafo: queen6_6.col Número de vértices: 36 Número de aristas: 580\n",
      "max_degree: 19\n"
     ]
    },
    {
     "name": "stdout",
     "output_type": "stream",
     "text": [
      "Resultados: Any[\"queen6_6.col\", 36, 580, 1.5603885, 11.0, 12136.0]\n",
      "Trabajando Grafo: myciel5.col Número de vértices: 47 Número de aristas: 236\n",
      "max_degree: 23\n"
     ]
    },
    {
     "name": "stdout",
     "output_type": "stream",
     "text": [
      "Resultados: Any[\"myciel5.col\", 47, 236, 1.7311918, 6.0, 19968.0]\n",
      "Trabajando Grafo: queen7_7.col Número de vértices: 49 Número de aristas: 952\n",
      "max_degree: 24\n"
     ]
    },
    {
     "name": "stdout",
     "output_type": "stream",
     "text": [
      "Resultados: Any[\"queen7_7.col\", 49, 952, 8.5063887, 10.0, 21600.0]\n"
     ]
    },
    {
     "name": "stdout",
     "output_type": "stream",
     "text": [
      "Trabajando Grafo: queen8_8.col Número de vértices: 64 Número de aristas: 1456\n",
      "max_degree: 27"
     ]
    },
    {
     "name": "stdout",
     "output_type": "stream",
     "text": [
      "\n",
      "Resultados: Any[\"queen8_8.col\", 64, 1456, 34.3926377, 13.0, 35880.0]\n",
      "Trabajando Grafo: huck.col Número de vértices: 74 Número de aristas: 602\n",
      "max_degree: "
     ]
    },
    {
     "name": "stdout",
     "output_type": "stream",
     "text": [
      "53\n"
     ]
    },
    {
     "name": "stdout",
     "output_type": "stream",
     "text": [
      "Resultados: Any[\"huck.col\", 74, 602, 19.8567114, 11.0, 47400.0]\n",
      "Trabajando Grafo: jean.col Número de vértices: 80 Número de aristas: 508\n",
      "max_degree: 36\n"
     ]
    },
    {
     "name": "stdout",
     "output_type": "stream",
     "text": [
      "Resultados: Any[\"jean.col\", 80, 508, 5.333718, 10.0, 55080.0]\n",
      "Trabajando Grafo: queen9_9.col Número de vértices: 81 Número de aristas: 2112\n",
      "max_degree: 32"
     ]
    },
    {
     "name": "stdout",
     "output_type": "stream",
     "text": [
      "\n",
      "Resultados: Any[\"queen9_9.col\", 81, 2112, 109.1973153, 16.0, 56416.0]\n",
      "Trabajando Grafo: david.col Número de vértices: 87 Número de aristas: 812\n",
      "max_degree: 82\n"
     ]
    },
    {
     "name": "stdout",
     "output_type": "stream",
     "text": [
      "Resultados: Any[\"david.col\", 87, 812, 73.6978752, 12.0, 64768.0]\n",
      "Trabajando Grafo: myciel6.col Número de vértices: 95 Número de aristas: 755\n",
      "max_degree: 47\n"
     ]
    },
    {
     "name": "stdout",
     "output_type": "stream",
     "text": [
      "Resultados: Any[\"myciel6.col\", 95, 755, 51.975641, 7.0, 76800.0]\n",
      "Trabajando Grafo: queen8_12.col Número de vértices: 96 Número de aristas: 2736\n",
      "max_degree: 32\n"
     ]
    },
    {
     "name": "stdout",
     "output_type": "stream",
     "text": [
      "Resultados: Any[\"qu"
     ]
    },
    {
     "name": "stdout",
     "output_type": "stream",
     "text": [
      "een8_12.col\", 96, 2736, 215.3403436, 15.0, 78376.0]\n",
      "Trabajando Grafo: queen10_10.col Número de vértices: 100 Número de aristas: 2940\n"
     ]
    },
    {
     "name": "stdout",
     "output_type": "stream",
     "text": [
      "max_degree: 35\n"
     ]
    },
    {
     "name": "stdout",
     "output_type": "stream",
     "text": [
      "Resultados: Any[\"quee"
     ]
    },
    {
     "name": "stdout",
     "output_type": "stream",
     "text": [
      "n10_10.c"
     ]
    },
    {
     "name": "stdout",
     "output_type": "stream",
     "text": [
      "ol\", 100, "
     ]
    },
    {
     "name": "stdout",
     "output_type": "stream",
     "text": [
      "2940, 278.5657014"
     ]
    },
    {
     "name": "stdout",
     "output_type": "stream",
     "text": [
      ", 16.0, 84840.0]"
     ]
    },
    {
     "name": "stdout",
     "output_type": "stream",
     "text": [
      "\n",
      "Trabajando Grafo: games120.col Número de vértices: 120 Número de aristas: 1276\n",
      "max_degree: 13"
     ]
    },
    {
     "name": "stdout",
     "output_type": "stream",
     "text": [
      "\n",
      "Resultados: Any[\"games120.col\", 120, 1276, 27.5283257, 9.0, 121000.0]\n",
      "Trabajando Grafo: queen11_11.col Número de vértices: 121 Número de aristas: 3960\n",
      "max_degree: 40"
     ]
    },
    {
     "name": "stdout",
     "output_type": "stream",
     "text": [
      "\n",
      "Resultados: Any[\"queen11_11.col\", 121, 3960, 588.9100248, 17.0, 122976.0]\n",
      "Trabajando Grafo: miles1000.col Número de vértices: 128 Número de aristas: "
     ]
    },
    {
     "name": "stdout",
     "output_type": "stream",
     "text": [
      "6432\n",
      "max_degree: 86\n"
     ]
    },
    {
     "name": "stdout",
     "output_type": "stream",
     "text": [
      "Resultados: Any[\"miles1000.col\", 128, 6432, 2137.2341176, 44.0, 137256.0]\n",
      "Trabajando Grafo: miles1500.col Número de vértices: 128 Número de aristas: 10396\n",
      "max_degree: 106\n"
     ]
    },
    {
     "name": "stdout",
     "output_type": "stream",
     "text": [
      "Resultados: Any[\"miles1500.col\", 128, 10396, 5614.800515, 76.0, 137256.0]\n",
      "Trabajando Grafo: miles250.col Número de vértices: 128 Número de aristas: 774\n",
      "max_degree: 16\n"
     ]
    },
    {
     "name": "stdout",
     "output_type": "stream",
     "text": [
      "Resultados: Any[\"miles250.col\", 128, 774, 11.7235283,"
     ]
    },
    {
     "name": "stdout",
     "output_type": "stream",
     "text": [
      " 9.0, 137256.0]\n",
      "Trabajando Grafo: miles500.col Número de vértices: 128 Número de aristas: 2340\n",
      "max_degree: 38\n"
     ]
    },
    {
     "name": "stdout",
     "output_type": "stream",
     "text": [
      "Resultados: Any[\"miles500."
     ]
    },
    {
     "name": "stdout",
     "output_type": "stream",
     "text": [
      "col\", 128, 2340, 347.4175958, 22.0, 137256.0]\n",
      "Trabajando Grafo: miles750.col Número de vértices: 128 Número de aristas: 4226\n",
      "max_degree: 64\n"
     ]
    },
    {
     "name": "stdout",
     "output_type": "stream",
     "text": [
      "Resultados: Any[\"miles750.col\", 128, 4226, 1279.2444156, 34.0, 137256.0"
     ]
    },
    {
     "name": "stdout",
     "output_type": "stream",
     "text": [
      "]\n",
      "Trabajando Grafo: anna.col Número de vértices: 138 Número de aristas: 986\n",
      "max_degree: 71\n"
     ]
    },
    {
     "name": "stdout",
     "output_type": "stream",
     "text": [
      "Resultados: Any[\"anna.col\", 138, 986, 116.2769786, 12.0, 159016.0]\n",
      "Trabajando Grafo: queen12_12.col Número de vértices: 144 Número de aristas: 5192\n"
     ]
    },
    {
     "name": "stdout",
     "output_type": "stream",
     "text": [
      "max_degree: 43\n"
     ]
    },
    {
     "name": "stdout",
     "output_type": "stream",
     "text": [
      "Resultados: Any[\"queen12_12.col\", 144, 5192, 1322.5227147, 20.0, 172840.0]\n",
      "Trabajando Grafo: queen13_13.col Número de vértices: 169 Número de aristas: 6656\n",
      "max_degree: 48\n"
     ]
    },
    {
     "name": "stdout",
     "output_type": "stream",
     "text": [
      "Resultados: Any[\"queen1"
     ]
    },
    {
     "name": "stdout",
     "output_type": "stream",
     "text": [
      "3_1"
     ]
    },
    {
     "name": "stdout",
     "output_type": "stream",
     "text": [
      "3.col\", 169, 6656, 2268.4142042, 21.0, 236640.0]\n",
      "Trabajando Grafo: mulsol.i.3.col Número de vértices: 184 Número de aristas: 3916\n"
     ]
    },
    {
     "name": "stdout",
     "output_type": "stream",
     "text": [
      "max_degree: 157\n"
     ]
    },
    {
     "name": "stdout",
     "output_type": "stream",
     "text": [
      "Resultados: Any[\"mulsol.i.3.col\", 184,"
     ]
    },
    {
     "name": "stdout",
     "output_type": "stream",
     "text": [
      " 3916, 7261.0171194, 157.0, 279720.0]\n",
      "Trabajando Grafo: mulsol.i.4.col Número de vértices: 185"
     ]
    }
   ],
   "source": [
    "# itera por cada instancia\n",
    "results = []\n",
    "\n",
    "for graph_file in graphs_files\n",
    "    println(\"Trabajando Grafo: \", graph_file.name, \" Número de vértices: \", graph_file.vertices, \" Número de aristas: \", length(graph_file.edges))\n",
    "    elapsed_time_data = Float64[]\n",
    "    num_colors_data = Float64[]\n",
    "    mem_size_data = Float64[]\n",
    "    for i in 1:1\n",
    "        graph = []\n",
    "        for j in 1:graph_file.vertices\n",
    "            push!(graph, zeros(Int, graph_file.vertices))\n",
    "        end\n",
    "        for edge in graph_file.edges\n",
    "            graph[edge[1]][edge[2]] = 1\n",
    "            graph[edge[2]][edge[1]] = 1\n",
    "        end\n",
    "        mem_size = Base.summarysize(graph)\n",
    "        elapsed_time = @elapsed num_colors = graph_coloring(graph)\n",
    "        push!(elapsed_time_data, elapsed_time)\n",
    "        push!(num_colors_data, num_colors)\n",
    "        push!(mem_size_data, mem_size)\n",
    "    end\n",
    "    # determina la media de los resultados\n",
    "    elapsed_time = sum(elapsed_time_data) / length(elapsed_time_data)\n",
    "    num_colors = sum(num_colors_data) / length(num_colors_data)\n",
    "    mem_size = sum(mem_size_data) / length(mem_size_data)\n",
    "    res = [graph_file.name, graph_file.vertices, length(graph_file.edges), elapsed_time, num_colors, mem_size]\n",
    "    push!(results, res)\n",
    "    println(\"Resultados: \", res)\n",
    "end"
   ]
  }
 ],
 "metadata": {
  "kernelspec": {
   "display_name": "Julia 1.9.0",
   "language": "julia",
   "name": "julia-1.9"
  },
  "language_info": {
   "file_extension": ".jl",
   "mimetype": "application/julia",
   "name": "julia",
   "version": "1.9.0"
  },
  "orig_nbformat": 4
 },
 "nbformat": 4,
 "nbformat_minor": 2
}
